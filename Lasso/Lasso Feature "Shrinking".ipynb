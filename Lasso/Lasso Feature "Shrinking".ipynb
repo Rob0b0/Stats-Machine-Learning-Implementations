{
 "cells": [
  {
   "cell_type": "markdown",
   "metadata": {},
   "source": [
    "# Sparsify features Using Lasso#\n",
    "The data file mystery.dat contains pairs (x,y), where x ∈ R100 and y ∈ R. There is one data point per line, with comma-separated values; the very last number in each line is the y-value.\n",
    "In this data set, y is a linear function of just ten of the features in x, plus some noise. Your job is to identify these ten features."
   ]
  },
  {
   "cell_type": "markdown",
   "metadata": {},
   "source": [
    "## Read in Data ##"
   ]
  },
  {
   "cell_type": "code",
   "execution_count": 2,
   "metadata": {},
   "outputs": [
    {
     "data": {
      "text/plain": [
       "-6.0755999999999997"
      ]
     },
     "execution_count": 2,
     "metadata": {},
     "output_type": "execute_result"
    }
   ],
   "source": [
    "import pandas as pd\n",
    "import numpy as np\n",
    "\n",
    "# import .dat csv\n",
    "df = pd.read_csv('mystery.dat', header = None)\n",
    "df.iloc[0, -1]"
   ]
  },
  {
   "cell_type": "code",
   "execution_count": 5,
   "metadata": {},
   "outputs": [
    {
     "name": "stdout",
     "output_type": "stream",
     "text": [
      "(101, 100)\n"
     ]
    }
   ],
   "source": [
    "features_m = df.iloc[:, :-1]\n",
    "print(features_m.shape)"
   ]
  },
  {
   "cell_type": "code",
   "execution_count": 6,
   "metadata": {},
   "outputs": [
    {
     "name": "stdout",
     "output_type": "stream",
     "text": [
      "(101,)\n"
     ]
    }
   ],
   "source": [
    "y_values = df.iloc[:, -1]\n",
    "print(y_values.shape)"
   ]
  },
  {
   "cell_type": "markdown",
   "metadata": {},
   "source": [
    "## Start fitting in data"
   ]
  },
  {
   "cell_type": "code",
   "execution_count": 36,
   "metadata": {},
   "outputs": [
    {
     "data": {
      "text/plain": [
       "Lasso(alpha=0.5, copy_X=True, fit_intercept=True, max_iter=1000,\n",
       "   normalize=False, positive=False, precompute=False, random_state=None,\n",
       "   selection='cyclic', tol=0.0001, warm_start=False)"
      ]
     },
     "execution_count": 36,
     "metadata": {},
     "output_type": "execute_result"
    }
   ],
   "source": [
    "from sklearn import linear_model\n",
    "\n",
    "clf = linear_model.Lasso(alpha = 0.5)\n",
    "clf.fit(features_m, y_values)"
   ]
  },
  {
   "cell_type": "code",
   "execution_count": 37,
   "metadata": {},
   "outputs": [
    {
     "name": "stdout",
     "output_type": "stream",
     "text": [
      "  (0, 1)\t0.598070793415\n",
      "  (0, 2)\t0.490584380386\n",
      "  (0, 4)\t0.618326948097\n",
      "  (0, 6)\t0.837668121699\n",
      "  (0, 10)\t0.477131778559\n",
      "  (0, 12)\t0.327318840711\n",
      "  (0, 16)\t0.172724496515\n",
      "  (0, 18)\t0.374728831955\n",
      "  (0, 22)\t0.709102367009\n",
      "  (0, 26)\t0.520022742356\n"
     ]
    }
   ],
   "source": [
    "w = clf.coef_\n",
    "print(clf.sparse_coef_)\n"
   ]
  }
 ],
 "metadata": {
  "kernelspec": {
   "display_name": "Python 3",
   "language": "python",
   "name": "python3"
  },
  "language_info": {
   "codemirror_mode": {
    "name": "ipython",
    "version": 3
   },
   "file_extension": ".py",
   "mimetype": "text/x-python",
   "name": "python",
   "nbconvert_exporter": "python",
   "pygments_lexer": "ipython3",
   "version": "3.6.0"
  }
 },
 "nbformat": 4,
 "nbformat_minor": 2
}
