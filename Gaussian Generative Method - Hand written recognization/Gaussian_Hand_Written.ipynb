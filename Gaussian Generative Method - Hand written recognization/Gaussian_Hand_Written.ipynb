{
 "cells": [
  {
   "cell_type": "code",
   "execution_count": 1,
   "metadata": {
    "collapsed": true
   },
   "outputs": [],
   "source": [
    "from struct import unpack\n",
    "import gzip\n",
    "from numpy import zeros, uint8, float32"
   ]
  },
  {
   "cell_type": "code",
   "execution_count": 2,
   "metadata": {
    "collapsed": true
   },
   "outputs": [],
   "source": [
    "# Function for parsing in dataset\n",
    "def get_labeled_data(imagefile, labelfile):\n",
    "    \"\"\"Read input-vector (image) and target class (label, 0-9) and return\n",
    "       it as list of tuples.\n",
    "    \"\"\"\n",
    "    # Open the images with gzip in read binary mode\n",
    "    images = gzip.open(imagefile, 'rb')\n",
    "    labels = gzip.open(labelfile, 'rb')\n",
    "\n",
    "    # Read the binary data\n",
    "\n",
    "    # We have to get big endian unsigned int. So we need '>I'\n",
    "\n",
    "    # Get metadata for images\n",
    "    images.read(4)  # skip the magic_number\n",
    "    number_of_images = images.read(4)\n",
    "    number_of_images = unpack('>I', number_of_images)[0]\n",
    "    rows = images.read(4)\n",
    "    rows = unpack('>I', rows)[0]\n",
    "    cols = images.read(4)\n",
    "    cols = unpack('>I', cols)[0]\n",
    "\n",
    "    # Get metadata for labels\n",
    "    labels.read(4)  # skip the magic_number\n",
    "    N = labels.read(4)\n",
    "    N = unpack('>I', N)[0]\n",
    "\n",
    "    if number_of_images != N:\n",
    "        raise Exception('number of labels did not match the number of images')\n",
    "\n",
    "    # Get the data\n",
    "    x = zeros((N, rows, cols), dtype=float32)  # Initialize numpy array\n",
    "    y = zeros((N, 1), dtype=uint8)  # Initialize numpy array\n",
    "    for i in range(N):\n",
    "        if i % 1000 == 0:\n",
    "            print(\"i: %i\" % i)\n",
    "        for row in range(rows):\n",
    "            for col in range(cols):\n",
    "                tmp_pixel = images.read(1)  # Just a single byte\n",
    "                tmp_pixel = unpack('>B', tmp_pixel)[0]\n",
    "                x[i][row][col] = tmp_pixel\n",
    "        tmp_label = labels.read(1)\n",
    "        y[i] = unpack('>B', tmp_label)[0]\n",
    "    return (x, y)"
   ]
  },
  {
   "cell_type": "code",
   "execution_count": 3,
   "metadata": {
    "collapsed": true
   },
   "outputs": [],
   "source": [
    "from pylab import imshow, show, cm\n",
    "\n",
    "# Function for viewing images\n",
    "def view_image(image, label=\"\"):\n",
    "    \"\"\"View a single image.\"\"\"\n",
    "    print(\"Label: %s\" % label)\n",
    "    imshow(image, cmap=cm.gray)\n",
    "    show()"
   ]
  },
  {
   "cell_type": "code",
   "execution_count": 7,
   "metadata": {},
   "outputs": [
    {
     "name": "stdout",
     "output_type": "stream",
     "text": [
      "i: 0\n",
      "i: 1000\n",
      "i: 2000\n",
      "i: 3000\n",
      "i: 4000\n",
      "i: 5000\n",
      "i: 6000\n",
      "i: 7000\n",
      "i: 8000\n",
      "i: 9000\n",
      "i: 10000\n",
      "i: 11000\n",
      "i: 12000\n",
      "i: 13000\n",
      "i: 14000\n",
      "i: 15000\n",
      "i: 16000\n",
      "i: 17000\n",
      "i: 18000\n",
      "i: 19000\n",
      "i: 20000\n",
      "i: 21000\n",
      "i: 22000\n",
      "i: 23000\n",
      "i: 24000\n",
      "i: 25000\n",
      "i: 26000\n",
      "i: 27000\n",
      "i: 28000\n",
      "i: 29000\n",
      "i: 30000\n",
      "i: 31000\n",
      "i: 32000\n",
      "i: 33000\n",
      "i: 34000\n",
      "i: 35000\n",
      "i: 36000\n",
      "i: 37000\n",
      "i: 38000\n",
      "i: 39000\n",
      "i: 40000\n",
      "i: 41000\n",
      "i: 42000\n",
      "i: 43000\n",
      "i: 44000\n",
      "i: 45000\n",
      "i: 46000\n",
      "i: 47000\n",
      "i: 48000\n",
      "i: 49000\n",
      "i: 50000\n",
      "i: 51000\n",
      "i: 52000\n",
      "i: 53000\n",
      "i: 54000\n",
      "i: 55000\n",
      "i: 56000\n",
      "i: 57000\n",
      "i: 58000\n",
      "i: 59000\n",
      "i: 0\n",
      "i: 1000\n",
      "i: 2000\n",
      "i: 3000\n",
      "i: 4000\n",
      "i: 5000\n",
      "i: 6000\n",
      "i: 7000\n",
      "i: 8000\n",
      "i: 9000\n"
     ]
    }
   ],
   "source": [
    "# training set\n",
    "training_set = get_labeled_data(\"train-images-idx3-ubyte.gz\", \"train-labels-idx1-ubyte.gz\")\n",
    "testing_set = get_labeled_data(\"t10k-images-idx3-ubyte.gz\", \"t10k-labels-idx1-ubyte.gz\")"
   ]
  },
  {
   "cell_type": "code",
   "execution_count": 18,
   "metadata": {},
   "outputs": [
    {
     "name": "stdout",
     "output_type": "stream",
     "text": [
      "Label: [5]\n"
     ]
    },
    {
     "data": {
      "image/png": "[encoded data removed]",
      "text/plain": [
       "<matplotlib.figure.Figure at 0x10d06b780>"
      ]
     },
     "metadata": {},
     "output_type": "display_data"
    }
   ],
   "source": [
    "# Test two functions\n",
    "training_set[0].shape\n",
    "view_image(training_set[0][1],training_set[1][0])"
   ]
  },
  {
   "cell_type": "code",
   "execution_count": 21,
   "metadata": {},
   "outputs": [
    {
     "name": "stdout",
     "output_type": "stream",
     "text": [
      "[   0.    0.    0.    0.    0.    0.    0.    0.    0.    0.    0.    0.\n",
      "    0.    0.    0.    0.    0.    0.    0.    0.    0.    0.    0.    0.\n",
      "    0.    0.    0.    0.    0.    0.    0.    0.    0.    0.    0.    0.\n",
      "    0.    0.    0.    0.    0.    0.    0.    0.    0.    0.    0.    0.\n",
      "    0.    0.    0.    0.    0.    0.    0.    0.    0.    0.    0.    0.\n",
      "    0.    0.    0.    0.    0.    0.    0.    0.    0.    0.    0.    0.\n",
      "    0.    0.    0.    0.    0.    0.    0.    0.    0.    0.    0.    0.\n",
      "    0.    0.    0.    0.    0.    0.    0.    0.    0.    0.    0.    0.\n",
      "    0.    0.    0.    0.    0.    0.    0.    0.    0.    0.    0.    0.\n",
      "    0.    0.    0.    0.    0.    0.    0.    0.    0.    0.    0.    0.\n",
      "    0.    0.    0.    0.    0.    0.    0.    0.    0.    0.    0.    0.\n",
      "    0.    0.    0.    0.    0.    0.    0.    0.    0.    0.    0.    0.\n",
      "    0.    0.    0.    0.    0.    0.    0.    0.    3.   18.   18.   18.\n",
      "  126.  136.  175.   26.  166.  255.  247.  127.    0.    0.    0.    0.\n",
      "    0.    0.    0.    0.    0.    0.    0.    0.   30.   36.   94.  154.\n",
      "  170.  253.  253.  253.  253.  253.  225.  172.  253.  242.  195.   64.\n",
      "    0.    0.    0.    0.    0.    0.    0.    0.    0.    0.    0.   49.\n",
      "  238.  253.  253.  253.  253.  253.  253.  253.  253.  251.   93.   82.\n",
      "   82.   56.   39.    0.    0.    0.    0.    0.    0.    0.    0.    0.\n",
      "    0.    0.    0.   18.  219.  253.  253.  253.  253.  253.  198.  182.\n",
      "  247.  241.    0.    0.    0.    0.    0.    0.    0.    0.    0.    0.\n",
      "    0.    0.    0.    0.    0.    0.    0.    0.   80.  156.  107.  253.\n",
      "  253.  205.   11.    0.   43.  154.    0.    0.    0.    0.    0.    0.\n",
      "    0.    0.    0.    0.    0.    0.    0.    0.    0.    0.    0.    0.\n",
      "    0.   14.    1.  154.  253.   90.    0.    0.    0.    0.    0.    0.\n",
      "    0.    0.    0.    0.    0.    0.    0.    0.    0.    0.    0.    0.\n",
      "    0.    0.    0.    0.    0.    0.    0.  139.  253.  190.    2.    0.\n",
      "    0.    0.    0.    0.    0.    0.    0.    0.    0.    0.    0.    0.\n",
      "    0.    0.    0.    0.    0.    0.    0.    0.    0.    0.    0.   11.\n",
      "  190.  253.   70.    0.    0.    0.    0.    0.    0.    0.    0.    0.\n",
      "    0.    0.    0.    0.    0.    0.    0.    0.    0.    0.    0.    0.\n",
      "    0.    0.    0.    0.   35.  241.  225.  160.  108.    1.    0.    0.\n",
      "    0.    0.    0.    0.    0.    0.    0.    0.    0.    0.    0.    0.\n",
      "    0.    0.    0.    0.    0.    0.    0.    0.    0.   81.  240.  253.\n",
      "  253.  119.   25.    0.    0.    0.    0.    0.    0.    0.    0.    0.\n",
      "    0.    0.    0.    0.    0.    0.    0.    0.    0.    0.    0.    0.\n",
      "    0.    0.   45.  186.  253.  253.  150.   27.    0.    0.    0.    0.\n",
      "    0.    0.    0.    0.    0.    0.    0.    0.    0.    0.    0.    0.\n",
      "    0.    0.    0.    0.    0.    0.    0.   16.   93.  252.  253.  187.\n",
      "    0.    0.    0.    0.    0.    0.    0.    0.    0.    0.    0.    0.\n",
      "    0.    0.    0.    0.    0.    0.    0.    0.    0.    0.    0.    0.\n",
      "    0.  249.  253.  249.   64.    0.    0.    0.    0.    0.    0.    0.\n",
      "    0.    0.    0.    0.    0.    0.    0.    0.    0.    0.    0.    0.\n",
      "    0.    0.   46.  130.  183.  253.  253.  207.    2.    0.    0.    0.\n",
      "    0.    0.    0.    0.    0.    0.    0.    0.    0.    0.    0.    0.\n",
      "    0.    0.    0.    0.   39.  148.  229.  253.  253.  253.  250.  182.\n",
      "    0.    0.    0.    0.    0.    0.    0.    0.    0.    0.    0.    0.\n",
      "    0.    0.    0.    0.    0.    0.   24.  114.  221.  253.  253.  253.\n",
      "  253.  201.   78.    0.    0.    0.    0.    0.    0.    0.    0.    0.\n",
      "    0.    0.    0.    0.    0.    0.    0.    0.   23.   66.  213.  253.\n",
      "  253.  253.  253.  198.   81.    2.    0.    0.    0.    0.    0.    0.\n",
      "    0.    0.    0.    0.    0.    0.    0.    0.    0.    0.   18.  171.\n",
      "  219.  253.  253.  253.  253.  195.   80.    9.    0.    0.    0.    0.\n",
      "    0.    0.    0.    0.    0.    0.    0.    0.    0.    0.    0.    0.\n",
      "   55.  172.  226.  253.  253.  253.  253.  244.  133.   11.    0.    0.\n",
      "    0.    0.    0.    0.    0.    0.    0.    0.    0.    0.    0.    0.\n",
      "    0.    0.    0.    0.  136.  253.  253.  253.  212.  135.  132.   16.\n",
      "    0.    0.    0.    0.    0.    0.    0.    0.    0.    0.    0.    0.\n",
      "    0.    0.    0.    0.    0.    0.    0.    0.    0.    0.    0.    0.\n",
      "    0.    0.    0.    0.    0.    0.    0.    0.    0.    0.    0.    0.\n",
      "    0.    0.    0.    0.    0.    0.    0.    0.    0.    0.    0.    0.\n",
      "    0.    0.    0.    0.    0.    0.    0.    0.    0.    0.    0.    0.\n",
      "    0.    0.    0.    0.    0.    0.    0.    0.    0.    0.    0.    0.\n",
      "    0.    0.    0.    0.    0.    0.    0.    0.    0.    0.    0.    0.\n",
      "    0.    0.    0.    0.    0.    0.    0.    0.    0.    0.    0.    0.\n",
      "    0.    0.    0.    0.]\n",
      "oldie:::::::::\n",
      "[[   0.    0.    0.    0.    0.    0.    0.    0.    0.    0.    0.    0.\n",
      "     0.    0.    0.    0.    0.    0.    0.    0.    0.    0.    0.    0.\n",
      "     0.    0.    0.    0.]\n",
      " [   0.    0.    0.    0.    0.    0.    0.    0.    0.    0.    0.    0.\n",
      "     0.    0.    0.    0.    0.    0.    0.    0.    0.    0.    0.    0.\n",
      "     0.    0.    0.    0.]\n",
      " [   0.    0.    0.    0.    0.    0.    0.    0.    0.    0.    0.    0.\n",
      "     0.    0.    0.    0.    0.    0.    0.    0.    0.    0.    0.    0.\n",
      "     0.    0.    0.    0.]\n",
      " [   0.    0.    0.    0.    0.    0.    0.    0.    0.    0.    0.    0.\n",
      "     0.    0.    0.    0.    0.    0.    0.    0.    0.    0.    0.    0.\n",
      "     0.    0.    0.    0.]\n",
      " [   0.    0.    0.    0.    0.    0.    0.    0.    0.    0.    0.    0.\n",
      "     0.    0.    0.    0.    0.    0.    0.    0.    0.    0.    0.    0.\n",
      "     0.    0.    0.    0.]\n",
      " [   0.    0.    0.    0.    0.    0.    0.    0.    0.    0.    0.    0.\n",
      "     3.   18.   18.   18.  126.  136.  175.   26.  166.  255.  247.  127.\n",
      "     0.    0.    0.    0.]\n",
      " [   0.    0.    0.    0.    0.    0.    0.    0.   30.   36.   94.  154.\n",
      "   170.  253.  253.  253.  253.  253.  225.  172.  253.  242.  195.   64.\n",
      "     0.    0.    0.    0.]\n",
      " [   0.    0.    0.    0.    0.    0.    0.   49.  238.  253.  253.  253.\n",
      "   253.  253.  253.  253.  253.  251.   93.   82.   82.   56.   39.    0.\n",
      "     0.    0.    0.    0.]\n",
      " [   0.    0.    0.    0.    0.    0.    0.   18.  219.  253.  253.  253.\n",
      "   253.  253.  198.  182.  247.  241.    0.    0.    0.    0.    0.    0.\n",
      "     0.    0.    0.    0.]\n",
      " [   0.    0.    0.    0.    0.    0.    0.    0.   80.  156.  107.  253.\n",
      "   253.  205.   11.    0.   43.  154.    0.    0.    0.    0.    0.    0.\n",
      "     0.    0.    0.    0.]\n",
      " [   0.    0.    0.    0.    0.    0.    0.    0.    0.   14.    1.  154.\n",
      "   253.   90.    0.    0.    0.    0.    0.    0.    0.    0.    0.    0.\n",
      "     0.    0.    0.    0.]\n",
      " [   0.    0.    0.    0.    0.    0.    0.    0.    0.    0.    0.  139.\n",
      "   253.  190.    2.    0.    0.    0.    0.    0.    0.    0.    0.    0.\n",
      "     0.    0.    0.    0.]\n",
      " [   0.    0.    0.    0.    0.    0.    0.    0.    0.    0.    0.   11.\n",
      "   190.  253.   70.    0.    0.    0.    0.    0.    0.    0.    0.    0.\n",
      "     0.    0.    0.    0.]\n",
      " [   0.    0.    0.    0.    0.    0.    0.    0.    0.    0.    0.    0.\n",
      "    35.  241.  225.  160.  108.    1.    0.    0.    0.    0.    0.    0.\n",
      "     0.    0.    0.    0.]\n",
      " [   0.    0.    0.    0.    0.    0.    0.    0.    0.    0.    0.    0.\n",
      "     0.   81.  240.  253.  253.  119.   25.    0.    0.    0.    0.    0.\n",
      "     0.    0.    0.    0.]\n",
      " [   0.    0.    0.    0.    0.    0.    0.    0.    0.    0.    0.    0.\n",
      "     0.    0.   45.  186.  253.  253.  150.   27.    0.    0.    0.    0.\n",
      "     0.    0.    0.    0.]\n",
      " [   0.    0.    0.    0.    0.    0.    0.    0.    0.    0.    0.    0.\n",
      "     0.    0.    0.   16.   93.  252.  253.  187.    0.    0.    0.    0.\n",
      "     0.    0.    0.    0.]\n",
      " [   0.    0.    0.    0.    0.    0.    0.    0.    0.    0.    0.    0.\n",
      "     0.    0.    0.    0.    0.  249.  253.  249.   64.    0.    0.    0.\n",
      "     0.    0.    0.    0.]\n",
      " [   0.    0.    0.    0.    0.    0.    0.    0.    0.    0.    0.    0.\n",
      "     0.    0.   46.  130.  183.  253.  253.  207.    2.    0.    0.    0.\n",
      "     0.    0.    0.    0.]\n",
      " [   0.    0.    0.    0.    0.    0.    0.    0.    0.    0.    0.    0.\n",
      "    39.  148.  229.  253.  253.  253.  250.  182.    0.    0.    0.    0.\n",
      "     0.    0.    0.    0.]\n",
      " [   0.    0.    0.    0.    0.    0.    0.    0.    0.    0.   24.  114.\n",
      "   221.  253.  253.  253.  253.  201.   78.    0.    0.    0.    0.    0.\n",
      "     0.    0.    0.    0.]\n",
      " [   0.    0.    0.    0.    0.    0.    0.    0.   23.   66.  213.  253.\n",
      "   253.  253.  253.  198.   81.    2.    0.    0.    0.    0.    0.    0.\n",
      "     0.    0.    0.    0.]\n",
      " [   0.    0.    0.    0.    0.    0.   18.  171.  219.  253.  253.  253.\n",
      "   253.  195.   80.    9.    0.    0.    0.    0.    0.    0.    0.    0.\n",
      "     0.    0.    0.    0.]\n",
      " [   0.    0.    0.    0.   55.  172.  226.  253.  253.  253.  253.  244.\n",
      "   133.   11.    0.    0.    0.    0.    0.    0.    0.    0.    0.    0.\n",
      "     0.    0.    0.    0.]\n",
      " [   0.    0.    0.    0.  136.  253.  253.  253.  212.  135.  132.   16.\n",
      "     0.    0.    0.    0.    0.    0.    0.    0.    0.    0.    0.    0.\n",
      "     0.    0.    0.    0.]\n",
      " [   0.    0.    0.    0.    0.    0.    0.    0.    0.    0.    0.    0.\n",
      "     0.    0.    0.    0.    0.    0.    0.    0.    0.    0.    0.    0.\n",
      "     0.    0.    0.    0.]\n",
      " [   0.    0.    0.    0.    0.    0.    0.    0.    0.    0.    0.    0.\n",
      "     0.    0.    0.    0.    0.    0.    0.    0.    0.    0.    0.    0.\n",
      "     0.    0.    0.    0.]\n",
      " [   0.    0.    0.    0.    0.    0.    0.    0.    0.    0.    0.    0.\n",
      "     0.    0.    0.    0.    0.    0.    0.    0.    0.    0.    0.    0.\n",
      "     0.    0.    0.    0.]]\n"
     ]
    }
   ],
   "source": [
    "import numpy as np\n",
    "# reshape the 28x28 image data\n",
    "\n",
    "training_img = np.reshape(training_set[0], (60000, 784))\n",
    "print(training_img[0])\n",
    "print(\"oldie:::::::::\")\n",
    "print(training_set[0][0])\n",
    "\n",
    "# new training set after reshape\n",
    "training_reshaped = (training_img, training_set[1])"
   ]
  },
  {
   "cell_type": "code",
   "execution_count": 24,
   "metadata": {},
   "outputs": [],
   "source": [
    "# create a validation set of 1000\n",
    "valid_size = 1000\n",
    "training = (training_reshaped[0][: -valid_size], training_reshaped[1][: -valid_size])\n",
    "validation = (training_reshaped[0][-valid_size:], training_reshaped[1][-valid_size:])"
   ]
  },
  {
   "cell_type": "code",
   "execution_count": 25,
   "metadata": {},
   "outputs": [
    {
     "name": "stdout",
     "output_type": "stream",
     "text": [
      "{0: 0, 1: 0, 2: 0, 3: 0, 4: 0, 5: 0, 6: 0, 7: 0, 8: 0, 9: 0}\n",
      "{0: 5825, 1: 6640, 2: 5853, 3: 6028, 4: 5746, 5: 5331, 6: 5811, 7: 6158, 8: 5757, 9: 5851}\n",
      "10\n",
      "(5825, 784)\n",
      "(6640, 784)\n",
      "(5853, 784)\n",
      "(6028, 784)\n",
      "(5746, 784)\n",
      "(5331, 784)\n",
      "(5811, 784)\n",
      "(6158, 784)\n",
      "(5757, 784)\n",
      "(5851, 784)\n"
     ]
    }
   ],
   "source": [
    "# create dictionary for recording size of each label\n",
    "dict_size={}\n",
    "for i in range(10):\n",
    "    dict_size[i]=0\n",
    "print(dict_size)\n",
    "\n",
    "# get data size of each label\n",
    "for label in np.nditer(training[1]):\n",
    "    dict_size[int(label)]=dict_size[int(label)]+1\n",
    "print(dict_size)\n",
    "\n",
    "# create a list of 10 nparrays in order of label\n",
    "ordered_train = {}\n",
    "for i in range(10):\n",
    "    ordered_train[i]=np.empty((0,784),float32)\n",
    "print (len(ordered_train))\n",
    "for img,label in zip(training[0], training[1]):\n",
    "    ordered_train[label[0]] = np.append(ordered_train[label[0]],np.array([img]), axis=0)\n",
    "        \n",
    "for t in ordered_train:\n",
    "    print(ordered_train[t].shape)\n",
    "    "
   ]
  },
  {
   "cell_type": "code",
   "execution_count": 231,
   "metadata": {},
   "outputs": [
    {
     "name": "stdout",
     "output_type": "stream",
     "text": [
      "(784, 784)\n",
      "(784,)\n"
     ]
    }
   ],
   "source": [
    "cov_matrix_dict = {}\n",
    "mean_dict = {}\n",
    "\n",
    "# tuning this parameter\n",
    "c=0.4\n",
    "\n",
    "# start calculating mean and covariance matrix\n",
    "for class_id, ts in ordered_train.items():\n",
    "    # print(ts[255])\n",
    "    cov_matrix = np.cov(ts, rowvar=False)\n",
    "    # mean = np.mean(ts, axis=0)\n",
    "    mean = np.array(ts.mean(0))\n",
    "    # smooth cov matrix\n",
    "    cov_matrix = cov_matrix + c * np.identity(784)\n",
    "    cov_matrix_dict[class_id] = cov_matrix\n",
    "    mean_dict[class_id] = mean\n",
    "\n",
    "print(cov_matrix_dict[0].shape)\n",
    "print(mean_dict[0].shape)"
   ]
  },
  {
   "cell_type": "code",
   "execution_count": 228,
   "metadata": {},
   "outputs": [
    {
     "name": "stdout",
     "output_type": "stream",
     "text": [
      "-58631957.0242\n",
      "-57987953.5449\n",
      "-48401898.7498\n",
      "-45037393.7796\n",
      "-47616097.785\n",
      "-40673204.0509\n",
      "-75185642.1106\n",
      "-30215883.625\n",
      "-51274911.6426\n",
      "-34919920.172\n"
     ]
    }
   ],
   "source": [
    "from scipy.stats import multivariate_normal\n",
    "\n",
    "p_dict = {}\n",
    "# calculate p\n",
    "for i in range(0, 10):\n",
    "    mean = mean_dict[i]\n",
    "    cov = cov_matrix_dict[i]\n",
    "    #print(\"mean.shape: \"+ str(mean.shape))\n",
    "    #print(\"mean value: \" + str(mean[663]))\n",
    "    #print(\"cov.shape: \"+ str(cov.shape))\n",
    "    p_dict[i]= multivariate_normal(mean=mean, cov=cov, allow_singular=False)\n",
    "\n",
    "# x = np.random.rand(1,784)\n",
    "x = np.linspace(0.0, 783, num=784)\n",
    "# print(\"cov value: \" + str(cov_matrix_dict[5][620][249]))\n",
    "# print(\"mean value: \" + str(mean_dict[5][220]))\n",
    "# print(multivariate_normal.logpdf(x, mean=mean_dict[5], cov=cov_matrix_dict[5])) # number too small \n",
    "\n",
    "for i in p_dict:\n",
    "    print(p_dict[i].logpdf(x))\n",
    "\n"
   ]
  },
  {
   "cell_type": "code",
   "execution_count": 229,
   "metadata": {},
   "outputs": [
    {
     "name": "stdout",
     "output_type": "stream",
     "text": [
      "{0: 0.09872881355932203, 1: 0.11254237288135593, 2: 0.09920338983050847, 3: 0.10216949152542373, 4: 0.09738983050847458, 5: 0.09035593220338983, 6: 0.09849152542372881, 7: 0.1043728813559322, 8: 0.09757627118644067, 9: 0.09916949152542373}\n"
     ]
    }
   ],
   "source": [
    "# calculate prior\n",
    "prior_dict = {}\n",
    "for i,size in dict_size.items():\n",
    "    prior_dict[i] = dict_size[i]/(60000-valid_size)\n",
    "print (prior_dict)"
   ]
  },
  {
   "cell_type": "markdown",
   "metadata": {},
   "source": [
    "# Start training in validation set"
   ]
  },
  {
   "cell_type": "code",
   "execution_count": 230,
   "metadata": {
    "scrolled": true
   },
   "outputs": [
    {
     "name": "stdout",
     "output_type": "stream",
     "text": [
      "0.249\n"
     ]
    }
   ],
   "source": [
    "# for img, label in zip(validation[0], validation[1]):\n",
    "correct_num = 0\n",
    "for m in range(0, 999):\n",
    "    img = validation[0][m]\n",
    "    label = validation[1][m]\n",
    "    bayes_prob = []\n",
    "    # try each Pr\n",
    "    for i in range(10):\n",
    "        # print (p_dict[i].logpdf(img))\n",
    "        prob = [i, prior_dict[i]*(p_dict[i].logpdf(img))]\n",
    "        bayes_prob.append(prob)\n",
    "    # print (bayes_prob)\n",
    "    the_one = 0\n",
    "    the_max = -9999999999\n",
    "    for i in range(0, 9):\n",
    "        if(bayes_prob[i][1] > the_max):\n",
    "            the_max = bayes_prob[i][1]\n",
    "            the_one = bayes_prob[i][0]\n",
    "        \n",
    "    #print (\"Correct Label is \" + str(label) + \" Our guess is \" + str(the_one))\n",
    "    if(label == the_one):\n",
    "        correct_num += 1\n",
    "print(1 - correct_num/1000)\n"
   ]
  },
  {
   "cell_type": "code",
   "execution_count": null,
   "metadata": {
    "collapsed": true
   },
   "outputs": [],
   "source": []
  }
 ],
 "metadata": {
  "kernelspec": {
   "display_name": "Python 3",
   "language": "python",
   "name": "python3"
  },
  "language_info": {
   "codemirror_mode": {
    "name": "ipython",
    "version": 3
   },
   "file_extension": ".py",
   "mimetype": "text/x-python",
   "name": "python",
   "nbconvert_exporter": "python",
   "pygments_lexer": "ipython3",
   "version": "3.6.2"
  }
 },
 "nbformat": 4,
 "nbformat_minor": 2
}
