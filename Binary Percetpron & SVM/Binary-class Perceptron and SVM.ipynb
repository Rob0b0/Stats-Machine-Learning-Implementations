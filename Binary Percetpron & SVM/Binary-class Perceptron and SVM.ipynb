{
 "cells": [
  {
   "cell_type": "markdown",
   "metadata": {},
   "source": [
    "# Binary Classification on Iris dataset using Perceptron and SVM #"
   ]
  },
  {
   "cell_type": "markdown",
   "metadata": {},
   "source": [
    "## Binary classify function for calculating sign ##"
   ]
  },
  {
   "cell_type": "code",
   "execution_count": 8,
   "metadata": {},
   "outputs": [
    {
     "data": {
      "text/plain": [
       "-1"
      ]
     },
     "execution_count": 8,
     "metadata": {},
     "output_type": "execute_result"
    }
   ],
   "source": [
    "import numpy as np\n",
    "\n",
    "def give_sign(w,b,x):\n",
    "    result = np.dot(w,x)+b\n",
    "    if result >0:\n",
    "        return 1\n",
    "    else:\n",
    "        return -1\n",
    "    \n",
    "# Test:\n",
    "w = np.array([3,4])\n",
    "x = np.array([2,2])\n",
    "b = -14\n",
    "give_sign(w,b,x)"
   ]
  },
  {
   "cell_type": "markdown",
   "metadata": {},
   "source": [
    "## Perceptron Algorithm ##"
   ]
  },
  {
   "cell_type": "code",
   "execution_count": 79,
   "metadata": {
    "collapsed": true
   },
   "outputs": [],
   "source": [
    "import random\n",
    "def pc(x, y):\n",
    "    # randomly gives an order for the indexing\n",
    "    indices = random.sample(range(0,y.shape[0]), y.shape[0])\n",
    "    \n",
    "    # intialize w and b and u (# of updates)\n",
    "    # initialize w base on the column number of x\n",
    "    w = np.zeros(x.shape[1])\n",
    "    b = 0\n",
    "    u = 0\n",
    "    for i in indices:\n",
    "        data_x = x[i]\n",
    "        data_y = y[i]\n",
    "        result = give_sign(w,b,data_x)\n",
    "        if data_y*result < 0:\n",
    "            w = w+ data_y*data_x\n",
    "            b = b + data_y\n",
    "            u = u+1\n",
    "    return [w,b,u]"
   ]
  },
  {
   "cell_type": "markdown",
   "metadata": {},
   "source": [
    "## Load in Iris Dataset, analyze on feature index 1 and 3\n",
    "Using feature index 1 and 3, and labels 0 and 1."
   ]
  },
  {
   "cell_type": "code",
   "execution_count": 165,
   "metadata": {},
   "outputs": [
    {
     "name": "stdout",
     "output_type": "stream",
     "text": [
      "[[ 3.5  0.2]\n",
      " [ 3.   0.2]\n",
      " [ 3.2  0.2]\n",
      " [ 3.1  0.2]\n",
      " [ 3.6  0.2]\n",
      " [ 3.9  0.4]\n",
      " [ 3.4  0.3]\n",
      " [ 3.4  0.2]\n",
      " [ 2.9  0.2]\n",
      " [ 3.1  0.1]\n",
      " [ 3.7  0.2]\n",
      " [ 3.4  0.2]\n",
      " [ 3.   0.1]\n",
      " [ 3.   0.1]\n",
      " [ 4.   0.2]\n",
      " [ 4.4  0.4]\n",
      " [ 3.9  0.4]\n",
      " [ 3.5  0.3]\n",
      " [ 3.8  0.3]\n",
      " [ 3.8  0.3]\n",
      " [ 3.4  0.2]\n",
      " [ 3.7  0.4]\n",
      " [ 3.6  0.2]\n",
      " [ 3.3  0.5]\n",
      " [ 3.4  0.2]\n",
      " [ 3.   0.2]\n",
      " [ 3.4  0.4]\n",
      " [ 3.5  0.2]\n",
      " [ 3.4  0.2]\n",
      " [ 3.2  0.2]\n",
      " [ 3.1  0.2]\n",
      " [ 3.4  0.4]\n",
      " [ 4.1  0.1]\n",
      " [ 4.2  0.2]\n",
      " [ 3.1  0.1]\n",
      " [ 3.2  0.2]\n",
      " [ 3.5  0.2]\n",
      " [ 3.1  0.1]\n",
      " [ 3.   0.2]\n",
      " [ 3.4  0.2]\n",
      " [ 3.5  0.3]\n",
      " [ 2.3  0.3]\n",
      " [ 3.2  0.2]\n",
      " [ 3.5  0.6]\n",
      " [ 3.8  0.4]\n",
      " [ 3.   0.3]\n",
      " [ 3.8  0.2]\n",
      " [ 3.2  0.2]\n",
      " [ 3.7  0.2]\n",
      " [ 3.3  0.2]\n",
      " [ 3.2  1.4]\n",
      " [ 3.2  1.5]\n",
      " [ 3.1  1.5]\n",
      " [ 2.3  1.3]\n",
      " [ 2.8  1.5]\n",
      " [ 2.8  1.3]\n",
      " [ 3.3  1.6]\n",
      " [ 2.4  1. ]\n",
      " [ 2.9  1.3]\n",
      " [ 2.7  1.4]\n",
      " [ 2.   1. ]\n",
      " [ 3.   1.5]\n",
      " [ 2.2  1. ]\n",
      " [ 2.9  1.4]\n",
      " [ 2.9  1.3]\n",
      " [ 3.1  1.4]\n",
      " [ 3.   1.5]\n",
      " [ 2.7  1. ]\n",
      " [ 2.2  1.5]\n",
      " [ 2.5  1.1]\n",
      " [ 3.2  1.8]\n",
      " [ 2.8  1.3]\n",
      " [ 2.5  1.5]\n",
      " [ 2.8  1.2]\n",
      " [ 2.9  1.3]\n",
      " [ 3.   1.4]\n",
      " [ 2.8  1.4]\n",
      " [ 3.   1.7]\n",
      " [ 2.9  1.5]\n",
      " [ 2.6  1. ]\n",
      " [ 2.4  1.1]\n",
      " [ 2.4  1. ]\n",
      " [ 2.7  1.2]\n",
      " [ 2.7  1.6]\n",
      " [ 3.   1.5]\n",
      " [ 3.4  1.6]\n",
      " [ 3.1  1.5]\n",
      " [ 2.3  1.3]\n",
      " [ 3.   1.3]\n",
      " [ 2.5  1.3]\n",
      " [ 2.6  1.2]\n",
      " [ 3.   1.4]\n",
      " [ 2.6  1.2]\n",
      " [ 2.3  1. ]\n",
      " [ 2.7  1.3]\n",
      " [ 3.   1.2]\n",
      " [ 2.9  1.3]\n",
      " [ 2.9  1.3]\n",
      " [ 2.5  1.1]\n",
      " [ 2.8  1.3]]\n",
      "[-1 -1 -1 -1 -1 -1 -1 -1 -1 -1 -1 -1 -1 -1 -1 -1 -1 -1 -1 -1 -1 -1 -1 -1 -1\n",
      " -1 -1 -1 -1 -1 -1 -1 -1 -1 -1 -1 -1 -1 -1 -1 -1 -1 -1 -1 -1 -1 -1 -1 -1 -1\n",
      "  1  1  1  1  1  1  1  1  1  1  1  1  1  1  1  1  1  1  1  1  1  1  1  1  1\n",
      "  1  1  1  1  1  1  1  1  1  1  1  1  1  1  1  1  1  1  1  1  1  1  1  1  1]\n"
     ]
    }
   ],
   "source": [
    "from sklearn import datasets\n",
    "iris = datasets.load_iris()\n",
    "x = iris.data[:,[1,3]]\n",
    "y = iris.target\n",
    "x_new = np.empty((0,2), float)\n",
    "y_new = np.empty((0,1), int)\n",
    "for i in range(y.shape[0]):\n",
    "    if y[i] == 0:\n",
    "        y_new = np.append(y_new, -1)\n",
    "        x_new = np.append(x_new,np.array([x[i]]), axis=0)\n",
    "    elif y[i] == 1:\n",
    "        y_new = np.append(y_new, 1)\n",
    "        x_new = np.append(x_new,np.array([x[i]]), axis=0)\n",
    "\n",
    "\n",
    "print(x_new)\n",
    "print(y_new)"
   ]
  },
  {
   "cell_type": "code",
   "execution_count": 166,
   "metadata": {},
   "outputs": [
    {
     "name": "stdout",
     "output_type": "stream",
     "text": [
      "[-1.9  6.5]\n",
      "1\n",
      "11\n"
     ]
    }
   ],
   "source": [
    "[w,b,u] = pc(x_new, y_new)\n",
    "print(w)\n",
    "print(b)\n",
    "print(u)"
   ]
  },
  {
   "cell_type": "markdown",
   "metadata": {},
   "source": [
    "## Plot"
   ]
  },
  {
   "cell_type": "code",
   "execution_count": 167,
   "metadata": {},
   "outputs": [
    {
     "name": "stdout",
     "output_type": "stream",
     "text": [
      "(100, 2)\n",
      "(100,)\n"
     ]
    },
    {
     "data": {
      "image/png": "[encoded data removed]",
      "text/plain": [
       "<matplotlib.figure.Figure at 0x1145ad400>"
      ]
     },
     "metadata": {},
     "output_type": "display_data"
    }
   ],
   "source": [
    "import matplotlib.pyplot as plt\n",
    "%matplotlib inline\n",
    "\n",
    "color = ['b', 'g', 'b']\n",
    "print(x_new.shape)\n",
    "print(y_new.shape)\n",
    "plt.scatter(x_new[:, 0], x_new[:, 1], c=y_new)\n",
    "decision_x = np.linspace(0, 5, 100)\n",
    "plt.plot(decision_x, -1*w[0]/w[1]*decision_x)\n",
    "plt.show()"
   ]
  },
  {
   "cell_type": "markdown",
   "metadata": {},
   "source": [
    "## Record update times after running algorithm 20 times"
   ]
  },
  {
   "cell_type": "code",
   "execution_count": 172,
   "metadata": {},
   "outputs": [
    {
     "name": "stdout",
     "output_type": "stream",
     "text": [
      "[2, 10, 6, 15, 2, 11, 17, 10, 15, 15, 6, 17, 13, 12, 13, 19, 2, 13, 6, 15]\n"
     ]
    },
    {
     "data": {
      "image/png": "[encoded data removed]",
      "text/plain": [
       "<matplotlib.figure.Figure at 0x1137641d0>"
      ]
     },
     "metadata": {},
     "output_type": "display_data"
    }
   ],
   "source": [
    "update_times = []\n",
    "for i in range(20):\n",
    "    [w,b,u] = pc(x_new, y_new)\n",
    "    update_times.append(u)\n",
    "print(update_times)\n",
    "# plot\n",
    "# plt.hist(update_times, bins=20, alpha=0.5,histtype='bar')\n",
    "plt.hist(update_times, bins=np.arange(0,20, 1))\n",
    "plt.xticks(range(1,20))\n",
    "plt.show()"
   ]
  },
  {
   "cell_type": "markdown",
   "metadata": {},
   "source": [
    "# Now analyze on feature index 0 and 2 using SVM\n",
    "\n",
    "Using index 0 and 2, and labels 1 and 2. "
   ]
  },
  {
   "cell_type": "code",
   "execution_count": 111,
   "metadata": {},
   "outputs": [
    {
     "name": "stdout",
     "output_type": "stream",
     "text": [
      "(100, 2)\n",
      "(100,)\n",
      "[[ 7.   4.7]\n",
      " [ 6.4  4.5]\n",
      " [ 6.9  4.9]\n",
      " [ 5.5  4. ]\n",
      " [ 6.5  4.6]\n",
      " [ 5.7  4.5]\n",
      " [ 6.3  4.7]\n",
      " [ 4.9  3.3]\n",
      " [ 6.6  4.6]\n",
      " [ 5.2  3.9]\n",
      " [ 5.   3.5]\n",
      " [ 5.9  4.2]\n",
      " [ 6.   4. ]\n",
      " [ 6.1  4.7]\n",
      " [ 5.6  3.6]\n",
      " [ 6.7  4.4]\n",
      " [ 5.6  4.5]\n",
      " [ 5.8  4.1]\n",
      " [ 6.2  4.5]\n",
      " [ 5.6  3.9]\n",
      " [ 5.9  4.8]\n",
      " [ 6.1  4. ]\n",
      " [ 6.3  4.9]\n",
      " [ 6.1  4.7]\n",
      " [ 6.4  4.3]\n",
      " [ 6.6  4.4]\n",
      " [ 6.8  4.8]\n",
      " [ 6.7  5. ]\n",
      " [ 6.   4.5]\n",
      " [ 5.7  3.5]\n",
      " [ 5.5  3.8]\n",
      " [ 5.5  3.7]\n",
      " [ 5.8  3.9]\n",
      " [ 6.   5.1]\n",
      " [ 5.4  4.5]\n",
      " [ 6.   4.5]\n",
      " [ 6.7  4.7]\n",
      " [ 6.3  4.4]\n",
      " [ 5.6  4.1]\n",
      " [ 5.5  4. ]\n",
      " [ 5.5  4.4]\n",
      " [ 6.1  4.6]\n",
      " [ 5.8  4. ]\n",
      " [ 5.   3.3]\n",
      " [ 5.6  4.2]\n",
      " [ 5.7  4.2]\n",
      " [ 5.7  4.2]\n",
      " [ 6.2  4.3]\n",
      " [ 5.1  3. ]\n",
      " [ 5.7  4.1]\n",
      " [ 6.3  6. ]\n",
      " [ 5.8  5.1]\n",
      " [ 7.1  5.9]\n",
      " [ 6.3  5.6]\n",
      " [ 6.5  5.8]\n",
      " [ 7.6  6.6]\n",
      " [ 4.9  4.5]\n",
      " [ 7.3  6.3]\n",
      " [ 6.7  5.8]\n",
      " [ 7.2  6.1]\n",
      " [ 6.5  5.1]\n",
      " [ 6.4  5.3]\n",
      " [ 6.8  5.5]\n",
      " [ 5.7  5. ]\n",
      " [ 5.8  5.1]\n",
      " [ 6.4  5.3]\n",
      " [ 6.5  5.5]\n",
      " [ 7.7  6.7]\n",
      " [ 7.7  6.9]\n",
      " [ 6.   5. ]\n",
      " [ 6.9  5.7]\n",
      " [ 5.6  4.9]\n",
      " [ 7.7  6.7]\n",
      " [ 6.3  4.9]\n",
      " [ 6.7  5.7]\n",
      " [ 7.2  6. ]\n",
      " [ 6.2  4.8]\n",
      " [ 6.1  4.9]\n",
      " [ 6.4  5.6]\n",
      " [ 7.2  5.8]\n",
      " [ 7.4  6.1]\n",
      " [ 7.9  6.4]\n",
      " [ 6.4  5.6]\n",
      " [ 6.3  5.1]\n",
      " [ 6.1  5.6]\n",
      " [ 7.7  6.1]\n",
      " [ 6.3  5.6]\n",
      " [ 6.4  5.5]\n",
      " [ 6.   4.8]\n",
      " [ 6.9  5.4]\n",
      " [ 6.7  5.6]\n",
      " [ 6.9  5.1]\n",
      " [ 5.8  5.1]\n",
      " [ 6.8  5.9]\n",
      " [ 6.7  5.7]\n",
      " [ 6.7  5.2]\n",
      " [ 6.3  5. ]\n",
      " [ 6.5  5.2]\n",
      " [ 6.2  5.4]\n",
      " [ 5.9  5.1]]\n",
      "[-1 -1 -1 -1 -1 -1 -1 -1 -1 -1 -1 -1 -1 -1 -1 -1 -1 -1 -1 -1 -1 -1 -1 -1 -1\n",
      " -1 -1 -1 -1 -1 -1 -1 -1 -1 -1 -1 -1 -1 -1 -1 -1 -1 -1 -1 -1 -1 -1 -1 -1 -1\n",
      "  1  1  1  1  1  1  1  1  1  1  1  1  1  1  1  1  1  1  1  1  1  1  1  1  1\n",
      "  1  1  1  1  1  1  1  1  1  1  1  1  1  1  1  1  1  1  1  1  1  1  1  1  1]\n"
     ]
    }
   ],
   "source": [
    "# For features 0 and 2, labels 1,2\n",
    "x = iris.data[:,[0,2]]\n",
    "y = iris.target\n",
    "x_new = np.empty((0,2), float)\n",
    "y_new = np.empty((0,1), int)\n",
    "for i in range(y.shape[0]):\n",
    "    if y[i] == 1:\n",
    "        y_new = np.append(y_new, -1)\n",
    "        x_new = np.append(x_new,np.array([x[i]]), axis=0)\n",
    "    elif y[i] == 2:\n",
    "        y_new = np.append(y_new, 1)\n",
    "        x_new = np.append(x_new,np.array([x[i]]), axis=0)\n",
    "\n",
    "print(x_new.shape)\n",
    "print(y_new.shape)\n",
    "print(x_new)\n",
    "print(y_new)"
   ]
  },
  {
   "cell_type": "markdown",
   "metadata": {},
   "source": [
    "## Plot the data first"
   ]
  },
  {
   "cell_type": "code",
   "execution_count": 113,
   "metadata": {
    "scrolled": true
   },
   "outputs": [
    {
     "data": {
      "image/png": "[encoded data removed]",
      "text/plain": [
       "<matplotlib.figure.Figure at 0x1135e77f0>"
      ]
     },
     "metadata": {},
     "output_type": "display_data"
    }
   ],
   "source": [
    "plt.scatter(x_new[:, 0], x_new[:, 1], c=y_new)\n",
    "plt.show()"
   ]
  },
  {
   "cell_type": "markdown",
   "metadata": {},
   "source": [
    "## Classify the data using SVM"
   ]
  },
  {
   "cell_type": "code",
   "execution_count": 138,
   "metadata": {
    "collapsed": true
   },
   "outputs": [],
   "source": [
    "from sklearn.svm import SVC\n",
    "def tryC(C_v):\n",
    "    print(\"C: \"+ str(C_v))\n",
    "    clf = SVC(kernel='linear', C=C_v)\n",
    "    clf.fit(x_new, y_new)\n",
    "    print(clf.score(x_new, y_new))\n",
    "    num_supp = clf.n_support_\n",
    "    print(num_supp)"
   ]
  },
  {
   "cell_type": "markdown",
   "metadata": {},
   "source": [
    "## Trying different C values"
   ]
  },
  {
   "cell_type": "code",
   "execution_count": 161,
   "metadata": {},
   "outputs": [
    {
     "name": "stdout",
     "output_type": "stream",
     "text": [
      "C: 1.0\n",
      "0.93\n",
      "[16 15]\n",
      "C: 2.0\n",
      "0.94\n",
      "[12 12]\n",
      "C: 3.0\n",
      "0.95\n",
      "[11 11]\n",
      "C: 5.0\n",
      "0.94\n",
      "[10 11]\n",
      "C: 7.0\n",
      "0.95\n",
      "[10  9]\n",
      "C: 9.0\n",
      "0.95\n",
      "[10  9]\n",
      "C: 10.0\n",
      "0.95\n",
      "[9 9]\n",
      "C: 11.75\n",
      "0.96\n",
      "[9 8]\n",
      "C: 12.0\n",
      "0.96\n",
      "[9 8]\n",
      "C: 50.0\n",
      "0.95\n",
      "[7 7]\n"
     ]
    }
   ],
   "source": [
    "tryC(1.0)\n",
    "tryC(2.0)\n",
    "tryC(3.0)\n",
    "tryC(5.0)\n",
    "tryC(7.0)\n",
    "tryC(9.0)\n",
    "tryC(10.0)\n",
    "tryC(11.75)\n",
    "tryC(12.0)\n",
    "tryC(50.0)"
   ]
  },
  {
   "cell_type": "markdown",
   "metadata": {},
   "source": [
    "## Plot with the SVM with the best `C` value"
   ]
  },
  {
   "cell_type": "code",
   "execution_count": 153,
   "metadata": {},
   "outputs": [
    {
     "data": {
      "image/png": "[encoded data removed]",
      "text/plain": [
       "<matplotlib.figure.Figure at 0x1145c5048>"
      ]
     },
     "metadata": {},
     "output_type": "display_data"
    }
   ],
   "source": [
    "# Try with C = 3.0\n",
    "clf = SVC(kernel='linear', C=11.5)\n",
    "clf.fit(x_new, y_new)\n",
    "w = clf.coef_\n",
    "b = clf.intercept_\n",
    "\n",
    "plt.scatter(x_new[:, 0], x_new[:, 1], c=y_new)\n",
    "lines = np.linspace(5,10, 100)\n",
    "plt.plot(lines, -1*w[0][0]/w[0][1]*lines-b/w[0][1])\n",
    "plt.show()"
   ]
  }
 ],
 "metadata": {
  "kernelspec": {
   "display_name": "Python 3",
   "language": "python",
   "name": "python3"
  },
  "language_info": {
   "codemirror_mode": {
    "name": "ipython",
    "version": 3
   },
   "file_extension": ".py",
   "mimetype": "text/x-python",
   "name": "python",
   "nbconvert_exporter": "python",
   "pygments_lexer": "ipython3",
   "version": "3.6.0"
  }
 },
 "nbformat": 4,
 "nbformat_minor": 2
}
