{
 "cells": [
  {
   "cell_type": "markdown",
   "metadata": {},
   "source": [
    "# Multiclass Classification Using kernel Perceptron and SVM "
   ]
  },
  {
   "cell_type": "markdown",
   "metadata": {},
   "source": [
    "## First try SVM plotting with some simple points ##"
   ]
  },
  {
   "cell_type": "code",
   "execution_count": 1,
   "metadata": {},
   "outputs": [
    {
     "data": {
      "text/plain": [
       "SVC(C=100000, cache_size=200, class_weight=None, coef0=0.0,\n",
       "  decision_function_shape=None, degree=3, gamma='auto', kernel='linear',\n",
       "  max_iter=-1, probability=False, random_state=None, shrinking=True,\n",
       "  tol=0.001, verbose=False)"
      ]
     },
     "execution_count": 1,
     "metadata": {},
     "output_type": "execute_result"
    }
   ],
   "source": [
    "from sklearn.svm import SVC\n",
    "import numpy as np\n",
    "\n",
    "clf = SVC(kernel='linear', C=100000)\n",
    "\n",
    "# points\n",
    "x=np.array([[1,2],\n",
    "  [2,1],\n",
    "  [2,3],\n",
    "  [3,2],\n",
    "  [4,5],\n",
    "  [5,4],\n",
    "  [5,6],\n",
    "  [6,5]])\n",
    "y = np.array([-1,-1,-1,-1,1,1,1,1])\n",
    "clf.fit(x,y)\n"
   ]
  },
  {
   "cell_type": "markdown",
   "metadata": {},
   "source": [
    "## Sketch"
   ]
  },
  {
   "cell_type": "code",
   "execution_count": 2,
   "metadata": {},
   "outputs": [
    {
     "data": {
      "image/png": "[encoded data removed]",
      "text/plain": [
       "<matplotlib.figure.Figure at 0x116b24978>"
      ]
     },
     "metadata": {},
     "output_type": "display_data"
    }
   ],
   "source": [
    "import matplotlib.pyplot as plt\n",
    "%matplotlib inline\n",
    "w = clf.coef_\n",
    "b = clf.intercept_\n",
    "\n",
    "plt.scatter(x[:, 0], x[:, 1], c=y)\n",
    "lines = np.linspace(0,6, 100)\n",
    "plt.plot(lines, -1*w[0][0]/w[0][1]*lines-b/w[0][1])\n",
    "plt.show()"
   ]
  },
  {
   "cell_type": "code",
   "execution_count": 3,
   "metadata": {},
   "outputs": [
    {
     "name": "stdout",
     "output_type": "stream",
     "text": [
      "[[ 0.5  0.5]]\n",
      "[-3.5]\n"
     ]
    }
   ],
   "source": [
    "print(w)\n",
    "print(b)"
   ]
  },
  {
   "cell_type": "markdown",
   "metadata": {},
   "source": [
    "# Multiclass Perceptron\n",
    "Load in the data set data0.txt. This has 2-d data in four classes (coded as 0,1,2,3). Each row consists of three numbers: the two coordinates of the data points and the label.\n",
    "\n",
    "`data0.txt` has 2-d data in four classes (coded as 0,1,2,3). Each row consists of three numbers: the two coordinates of the data points and the label."
   ]
  },
  {
   "cell_type": "code",
   "execution_count": 4,
   "metadata": {},
   "outputs": [
    {
     "data": {
      "text/html": [
       "<div>\n",
       "<style>\n",
       "    .dataframe thead tr:only-child th {\n",
       "        text-align: right;\n",
       "    }\n",
       "\n",
       "    .dataframe thead th {\n",
       "        text-align: left;\n",
       "    }\n",
       "\n",
       "    .dataframe tbody tr th {\n",
       "        vertical-align: top;\n",
       "    }\n",
       "</style>\n",
       "<table border=\"1\" class=\"dataframe\">\n",
       "  <thead>\n",
       "    <tr style=\"text-align: right;\">\n",
       "      <th></th>\n",
       "      <th>0</th>\n",
       "      <th>1</th>\n",
       "      <th>2</th>\n",
       "    </tr>\n",
       "  </thead>\n",
       "  <tbody>\n",
       "    <tr>\n",
       "      <th>0</th>\n",
       "      <td>1</td>\n",
       "      <td>1</td>\n",
       "      <td>0</td>\n",
       "    </tr>\n",
       "    <tr>\n",
       "      <th>1</th>\n",
       "      <td>1</td>\n",
       "      <td>2</td>\n",
       "      <td>0</td>\n",
       "    </tr>\n",
       "    <tr>\n",
       "      <th>2</th>\n",
       "      <td>1</td>\n",
       "      <td>3</td>\n",
       "      <td>0</td>\n",
       "    </tr>\n",
       "    <tr>\n",
       "      <th>3</th>\n",
       "      <td>2</td>\n",
       "      <td>1</td>\n",
       "      <td>0</td>\n",
       "    </tr>\n",
       "    <tr>\n",
       "      <th>4</th>\n",
       "      <td>2</td>\n",
       "      <td>2</td>\n",
       "      <td>0</td>\n",
       "    </tr>\n",
       "  </tbody>\n",
       "</table>\n",
       "</div>"
      ],
      "text/plain": [
       "   0  1  2\n",
       "0  1  1  0\n",
       "1  1  2  0\n",
       "2  1  3  0\n",
       "3  2  1  0\n",
       "4  2  2  0"
      ]
     },
     "execution_count": 4,
     "metadata": {},
     "output_type": "execute_result"
    }
   ],
   "source": [
    "import pandas as pd\n",
    "\n",
    "# read in data\n",
    "df = pd.read_csv('data0.txt', header=None, delimiter=r\"\\s+\")\n",
    "\n",
    "df.head()"
   ]
  },
  {
   "cell_type": "code",
   "execution_count": 5,
   "metadata": {},
   "outputs": [
    {
     "name": "stdout",
     "output_type": "stream",
     "text": [
      "(48, 2)\n",
      "(48,)\n",
      "[1 1]\n"
     ]
    }
   ],
   "source": [
    "# separate features and labels\n",
    "\n",
    "x = df.iloc[:, 0:2].values\n",
    "y = df.iloc[:,2].values\n",
    "\n",
    "print(x.shape)\n",
    "print(y.shape)\n",
    "len(x)\n",
    "print(x[0])"
   ]
  },
  {
   "cell_type": "code",
   "execution_count": 209,
   "metadata": {
    "collapsed": true
   },
   "outputs": [],
   "source": [
    "# classify the data\n",
    "def classify(w,b,x):\n",
    "    results = np.empty((x.shape[0], 0), dtype=np.float32)\n",
    "    print(\"results shape: \"+str(results.shape))\n",
    "    for i in range(len(w)):\n",
    "        # in each class\n",
    "        w_i = w[i]\n",
    "        b_i = b[i]\n",
    "        result = np.dot(w_i, x.T)+b_i\n",
    "        print(\"result shape: \"+str(result[:,None].shape))\n",
    "        results = np.hstack((results, result[:,None]))\n",
    "    print(\"results shape: \"+str(results.shape))\n",
    "    return np.argmax(results, axis=1)"
   ]
  },
  {
   "cell_type": "code",
   "execution_count": 7,
   "metadata": {
    "collapsed": true
   },
   "outputs": [],
   "source": [
    "# multiclass perceptron \n",
    "def multi_pc(x, y, n_class):\n",
    "    #initialize\n",
    "    w = np.zeros((n_class, x.shape[1]))\n",
    "    b = np.zeros(n_class)\n",
    "    n_correct = 0\n",
    "    # training\n",
    "    while (n_correct < x.shape[0]):\n",
    "        n_correct = 0\n",
    "        for i in range(x.shape[0]):\n",
    "            pred = classify(w,b,x[i])\n",
    "            truth = y[i]\n",
    "            if (pred != y[i]):\n",
    "                # incorrect classification\n",
    "                w[truth] = w[truth] + x[i]\n",
    "                b[truth] = b[truth] + 1\n",
    "                w[pred] = w[pred] - x[i]\n",
    "                b[pred] = b[pred] - 1\n",
    "            else:\n",
    "                n_correct += 1\n",
    "    return (w,b)"
   ]
  },
  {
   "cell_type": "markdown",
   "metadata": {},
   "source": [
    "## Fit in the data"
   ]
  },
  {
   "cell_type": "code",
   "execution_count": 8,
   "metadata": {},
   "outputs": [
    {
     "name": "stdout",
     "output_type": "stream",
     "text": [
      "[[  5.  -8.]\n",
      " [-46.  35.]\n",
      " [ 29. -34.]\n",
      " [ 12.   7.]]\n",
      "[ 62. -16. -13. -33.]\n"
     ]
    }
   ],
   "source": [
    "# fit in the data\n",
    "w,b = multi_pc(x,y, 4)\n",
    "\n",
    "print(w)\n",
    "print(b)"
   ]
  },
  {
   "cell_type": "markdown",
   "metadata": {},
   "source": [
    "## Plot the boundary using meshplot"
   ]
  },
  {
   "cell_type": "code",
   "execution_count": 216,
   "metadata": {},
   "outputs": [
    {
     "name": "stdout",
     "output_type": "stream",
     "text": [
      "results shape: (48400, 0)\n",
      "result shape: (48400, 1)\n",
      "result shape: (48400, 1)\n",
      "result shape: (48400, 1)\n",
      "result shape: (48400, 1)\n",
      "results shape: (48400, 4)\n"
     ]
    },
    {
     "data": {
      "image/png": "[encoded data removed]",
      "text/plain": [
       "<matplotlib.figure.Figure at 0x15f10fb00>"
      ]
     },
     "metadata": {},
     "output_type": "display_data"
    }
   ],
   "source": [
    "# Create mesh for plot\n",
    "delta = 0.05\n",
    "x1_min, x1_max = 0.0, 11.0\n",
    "x2_min, x2_max = 0.0, 11.0\n",
    "xx1, xx2 = np.meshgrid(np.arange(x1_min, x1_max, delta), np.arange(x2_min, x2_max, delta))\n",
    "Z = classify(w,b, np.c_[xx1.ravel(), xx2.ravel()])\n",
    "Z = Z.reshape(xx1.shape)\n",
    "plt.pcolormesh(xx1, xx2, Z, cmap=plt.cm.Pastel1, vmin=0, vmax=3)\n",
    "\n",
    "# plot\n",
    "# plot points\n",
    "colors = ['r','g', 'b', 'y']\n",
    "for label in range(0,4):\n",
    "    plt.scatter(x[y==label, 0], x[y==label,1], c=colors[label], s=5)"
   ]
  },
  {
   "cell_type": "markdown",
   "metadata": {},
   "source": [
    "# Multiclass kernel SVM\n",
    "Multiclass kernel SVM. Use support vector machines to classify the MNIST data\n",
    "set of handwritten digits."
   ]
  },
  {
   "cell_type": "code",
   "execution_count": 10,
   "metadata": {
    "collapsed": true
   },
   "outputs": [],
   "source": [
    "# load MNIST Data\n",
    "from struct import unpack\n",
    "import gzip\n",
    "from numpy import zeros, uint8, float32\n",
    "# Function for parsing in dataset\n",
    "def get_labeled_data(imagefile, labelfile):\n",
    "    \"\"\"Read input-vector (image) and target class (label, 0-9) and return\n",
    "       it as list of tuples.\n",
    "    \"\"\"\n",
    "    # Open the images with gzip in read binary mode\n",
    "    images = gzip.open(imagefile, 'rb')\n",
    "    labels = gzip.open(labelfile, 'rb')\n",
    "\n",
    "    # Read the binary data\n",
    "\n",
    "    # We have to get big endian unsigned int. So we need '>I'\n",
    "\n",
    "    # Get metadata for images\n",
    "    images.read(4)  # skip the magic_number\n",
    "    number_of_images = images.read(4)\n",
    "    number_of_images = unpack('>I', number_of_images)[0]\n",
    "    rows = images.read(4)\n",
    "    rows = unpack('>I', rows)[0]\n",
    "    cols = images.read(4)\n",
    "    cols = unpack('>I', cols)[0]\n",
    "\n",
    "    # Get metadata for labels\n",
    "    labels.read(4)  # skip the magic_number\n",
    "    N = labels.read(4)\n",
    "    N = unpack('>I', N)[0]\n",
    "\n",
    "    if number_of_images != N:\n",
    "        raise Exception('number of labels did not match the number of images')\n",
    "\n",
    "    # Get the data\n",
    "    x = zeros((N, rows, cols), dtype=float32)  # Initialize numpy array\n",
    "    y = zeros((N, 1), dtype=uint8)  # Initialize numpy array\n",
    "    for i in range(N):\n",
    "        if i % 1000 == 0:\n",
    "            print(\"i: %i\" % i)\n",
    "        for row in range(rows):\n",
    "            for col in range(cols):\n",
    "                tmp_pixel = images.read(1)  # Just a single byte\n",
    "                tmp_pixel = unpack('>B', tmp_pixel)[0]\n",
    "                x[i][row][col] = tmp_pixel\n",
    "        tmp_label = labels.read(1)\n",
    "        y[i] = unpack('>B', tmp_label)[0]\n",
    "    return (x, y)\n"
   ]
  },
  {
   "cell_type": "code",
   "execution_count": 11,
   "metadata": {},
   "outputs": [
    {
     "name": "stdout",
     "output_type": "stream",
     "text": [
      "i: 0\n",
      "i: 1000\n",
      "i: 2000\n",
      "i: 3000\n",
      "i: 4000\n",
      "i: 5000\n",
      "i: 6000\n",
      "i: 7000\n",
      "i: 8000\n",
      "i: 9000\n",
      "i: 10000\n",
      "i: 11000\n",
      "i: 12000\n",
      "i: 13000\n",
      "i: 14000\n",
      "i: 15000\n",
      "i: 16000\n",
      "i: 17000\n",
      "i: 18000\n",
      "i: 19000\n",
      "i: 20000\n",
      "i: 21000\n",
      "i: 22000\n",
      "i: 23000\n",
      "i: 24000\n",
      "i: 25000\n",
      "i: 26000\n",
      "i: 27000\n",
      "i: 28000\n",
      "i: 29000\n",
      "i: 30000\n",
      "i: 31000\n",
      "i: 32000\n",
      "i: 33000\n",
      "i: 34000\n",
      "i: 35000\n",
      "i: 36000\n",
      "i: 37000\n",
      "i: 38000\n",
      "i: 39000\n",
      "i: 40000\n",
      "i: 41000\n",
      "i: 42000\n",
      "i: 43000\n",
      "i: 44000\n",
      "i: 45000\n",
      "i: 46000\n",
      "i: 47000\n",
      "i: 48000\n",
      "i: 49000\n",
      "i: 50000\n",
      "i: 51000\n",
      "i: 52000\n",
      "i: 53000\n",
      "i: 54000\n",
      "i: 55000\n",
      "i: 56000\n",
      "i: 57000\n",
      "i: 58000\n",
      "i: 59000\n",
      "i: 0\n",
      "i: 1000\n",
      "i: 2000\n",
      "i: 3000\n",
      "i: 4000\n",
      "i: 5000\n",
      "i: 6000\n",
      "i: 7000\n",
      "i: 8000\n",
      "i: 9000\n"
     ]
    }
   ],
   "source": [
    "# training set\n",
    "training_set = get_labeled_data(\"../HW5/train-images-idx3-ubyte.gz\", \"../HW5/train-labels-idx1-ubyte.gz\")\n",
    "testing_set = get_labeled_data(\"../HW5/t10k-images-idx3-ubyte.gz\", \"../HW5/t10k-labels-idx1-ubyte.gz\")"
   ]
  },
  {
   "cell_type": "code",
   "execution_count": 12,
   "metadata": {},
   "outputs": [
    {
     "name": "stdout",
     "output_type": "stream",
     "text": [
      "(60000, 28, 28)\n",
      "(10000, 28, 28)\n",
      "(60000, 784)\n",
      "(60000, 1)\n",
      "(10000, 784)\n",
      "(10000, 1)\n"
     ]
    }
   ],
   "source": [
    "print(training_set[0].shape)\n",
    "print(testing_set[0].shape)\n",
    "# reshape\n",
    "training_img = np.reshape(training_set[0], (60000, 784))\n",
    "testing_img = np.reshape(testing_set[0], (10000, 784))\n",
    "print(training_img.shape)\n",
    "print(training_set[1].shape)\n",
    "print(testing_img.shape)\n",
    "print(testing_set[1].shape)"
   ]
  },
  {
   "cell_type": "code",
   "execution_count": 13,
   "metadata": {},
   "outputs": [
    {
     "name": "stderr",
     "output_type": "stream",
     "text": [
      "/Users/rchenyb/anaconda/lib/python3.6/site-packages/sklearn/utils/validation.py:526: DataConversionWarning: A column-vector y was passed when a 1d array was expected. Please change the shape of y to (n_samples, ), for example using ravel().\n",
      "  y = column_or_1d(y, warn=True)\n"
     ]
    },
    {
     "name": "stdout",
     "output_type": "stream",
     "text": [
      "C = [0.01, 0.1, 1.0, 10.0, 100.0]\n",
      "Training accuracy: 0.831383333333\n",
      "Testing accuracy: 0.8249\n",
      "C = [0.01, 0.1, 1.0, 10.0, 100.0]\n",
      "Training accuracy: 0.870466666667\n",
      "Testing accuracy: 0.8627\n",
      "C = [0.01, 0.1, 1.0, 10.0, 100.0]\n",
      "Training accuracy: 0.848466666667\n",
      "Testing accuracy: 0.8452\n",
      "C = [0.01, 0.1, 1.0, 10.0, 100.0]\n",
      "Training accuracy: 0.864416666667\n",
      "Testing accuracy: 0.8626\n",
      "C = [0.01, 0.1, 1.0, 10.0, 100.0]\n",
      "Training accuracy: 0.889883333333\n",
      "Testing accuracy: 0.8758\n"
     ]
    }
   ],
   "source": [
    "# fit in model\n",
    "cc = [0.01, 0.1, 1.0, 10.0, 100.0]\n",
    "from sklearn.svm import LinearSVC\n",
    "\n",
    "for ccc in cc:\n",
    "    clf = LinearSVC(loss='hinge', C=ccc)\n",
    "    clf.fit(training_img, training_set[1])\n",
    "\n",
    "    # print score\n",
    "    print('C = '+str(cc))\n",
    "    train_score = clf.score(training_img, training_set[1])\n",
    "    print(\"Training accuracy: \"+str(train_score))\n",
    "    test_score = clf.score(testing_img, testing_set[1])\n",
    "    print(\"Testing accuracy: \"+ str(test_score))\n"
   ]
  },
  {
   "cell_type": "markdown",
   "metadata": {
    "collapsed": true
   },
   "source": [
    "## Trying quadratic kernel"
   ]
  },
  {
   "cell_type": "code",
   "execution_count": 14,
   "metadata": {},
   "outputs": [
    {
     "name": "stderr",
     "output_type": "stream",
     "text": [
      "/Users/rchenyb/anaconda/lib/python3.6/site-packages/sklearn/utils/validation.py:526: DataConversionWarning: A column-vector y was passed when a 1d array was expected. Please change the shape of y to (n_samples, ), for example using ravel().\n",
      "  y = column_or_1d(y, warn=True)\n"
     ]
    },
    {
     "name": "stdout",
     "output_type": "stream",
     "text": [
      "C = [0.01, 0.1, 1.0, 10.0, 100.0]\n",
      "Training accuracy: 1.0\n",
      "Testing accuracy: 0.9806\n",
      "Number of support vectors: [ 476  423  984  989  876 1060  641  882 1186 1135]\n"
     ]
    }
   ],
   "source": [
    "from sklearn.svm import SVC\n",
    "clf = SVC(kernel='poly', degree=2, C=1.0)\n",
    "clf.fit(training_img, training_set[1])\n",
    "\n",
    "# print score\n",
    "print('C = '+str(cc))\n",
    "train_score = clf.score(training_img, training_set[1])\n",
    "print(\"Training accuracy: \"+str(train_score))\n",
    "test_score = clf.score(testing_img, testing_set[1])\n",
    "print(\"Testing accuracy: \"+ str(test_score))\n",
    "print(\"Number of support vectors: \"+str(clf.n_support_))"
   ]
  },
  {
   "cell_type": "markdown",
   "metadata": {},
   "source": [
    "# Kernel Perceptron\n",
    "Kernel Perceptron. Implement the kernel Perceptron algorithm, with the quadratic and RBF kernels.\n",
    "\n",
    "The data sets `data1.txt` and `data2.txt` contain 2-d data with two classes (coded as −1 and 1).\n",
    "Each row has three numbers: the two coordinates of the data points and the label."
   ]
  },
  {
   "cell_type": "markdown",
   "metadata": {
    "collapsed": true
   },
   "source": [
    "## kernel perceptron with quadratic funciton"
   ]
  },
  {
   "cell_type": "code",
   "execution_count": 15,
   "metadata": {},
   "outputs": [
    {
     "name": "stdout",
     "output_type": "stream",
     "text": [
      "   0  1  2\n",
      "0  1  1  1\n",
      "1  2  1  1\n",
      "2  3  1  1\n",
      "3  4  1  1\n",
      "4  5  1  1\n",
      "   0  1  2\n",
      "0  1  1  1\n",
      "1  1  2  1\n",
      "2  1  3  1\n",
      "3  1  4  1\n",
      "4  1  5  1\n"
     ]
    }
   ],
   "source": [
    "# read in data\n",
    "df1 = pd.read_csv('data1.txt', header=None, delimiter=r\"\\s+\")\n",
    "df2 = pd.read_csv('data2.txt', header=None, delimiter=r\"\\s+\")\n",
    "print(df1.head())\n",
    "print(df2.head())"
   ]
  },
  {
   "cell_type": "code",
   "execution_count": 48,
   "metadata": {},
   "outputs": [
    {
     "name": "stdout",
     "output_type": "stream",
     "text": [
      "(76, 2)\n",
      "(60, 2)\n",
      "(76,)\n"
     ]
    }
   ],
   "source": [
    "# separate the values\n",
    "x1 = df1.iloc[:, 0:2].values\n",
    "y1 = df1.iloc[:,2].values\n",
    "\n",
    "x2 = df2.iloc[:, 0:2].values\n",
    "y2 = df2.iloc[:,2].values\n",
    "\n",
    "print(x1.shape)\n",
    "print(x2.shape)\n",
    "print(y1.shape)"
   ]
  },
  {
   "cell_type": "code",
   "execution_count": 57,
   "metadata": {
    "collapsed": true
   },
   "outputs": [],
   "source": [
    "# classify binary classification with quadratic kernel\n",
    "def bi_class(a, x, y, x_i, b):\n",
    "    sum = 0\n",
    "    for j in range(len(a)):\n",
    "        temp = a[j]*y[j]*np.power((np.matmul(x[j], x_i.T)+1),2)\n",
    "        sum += temp\n",
    "    result = sum + b\n",
    "    return np.sign(result)\n"
   ]
  },
  {
   "cell_type": "code",
   "execution_count": 72,
   "metadata": {
    "collapsed": true
   },
   "outputs": [],
   "source": [
    "# kernel perceptron\n",
    "def k_pc(x,y):\n",
    "    n_correct = 0\n",
    "    n_size= x.shape[0]\n",
    "    a = np.zeros(n_size)\n",
    "    b = 0\n",
    "    while (n_correct < n_size):\n",
    "        n_correct = 0\n",
    "        for i in range(n_size):\n",
    "            calc = y[i]*bi_class(a,x,y,x[i], b)\n",
    "            if (calc <= 0):\n",
    "                a[i] += 1\n",
    "                b += y[i]\n",
    "            else:\n",
    "                n_correct += 1\n",
    "    return (a,b)"
   ]
  },
  {
   "cell_type": "code",
   "execution_count": 51,
   "metadata": {
    "collapsed": true
   },
   "outputs": [],
   "source": [
    "# fai(x)\n",
    "def fai(x):\n",
    "    x1 = x[0]\n",
    "    x2 = x[1]\n",
    "    result = np.array([x1,x2,x1*x1, x2*x2, x1*x2])\n",
    "    return result\n",
    "    \n",
    "# get w\n",
    "def get_w(a,b,x,y):\n",
    "    sum = 0\n",
    "    for i in range(len(a)):\n",
    "        temp = a[i]*y[i]*fai(x[i])\n",
    "        sum += temp\n",
    "    return sum\n"
   ]
  },
  {
   "cell_type": "code",
   "execution_count": 52,
   "metadata": {},
   "outputs": [
    {
     "name": "stdout",
     "output_type": "stream",
     "text": [
      "[ 56.  49.  22.  25. -49.]\n"
     ]
    }
   ],
   "source": [
    "a1,b1 = k_pc(x1,y1)\n",
    "w1 = get_w(a1,b1,x1,y1)\n",
    "print(w1)"
   ]
  },
  {
   "cell_type": "code",
   "execution_count": 61,
   "metadata": {},
   "outputs": [
    {
     "data": {
      "image/png": "[encoded data removed]",
      "text/plain": [
       "<matplotlib.figure.Figure at 0x11dfbb8d0>"
      ]
     },
     "metadata": {},
     "output_type": "display_data"
    }
   ],
   "source": [
    "# Create mesh for plot\n",
    "delta = 0.05\n",
    "x1_min, x1_max = 0.0, 11.0\n",
    "x2_min, x2_max = 0.0, 11.0\n",
    "xx1, xx2 = np.meshgrid(np.arange(x1_min, x1_max, delta), np.arange(x2_min, x2_max, delta))\n",
    "Z = bi_class(a1, x1, y1, np.c_[xx1.ravel(), xx2.ravel()], b1)\n",
    "Z = Z.reshape(xx1.shape)\n",
    "plt.pcolormesh(xx1, xx2, Z, cmap=plt.cm.Pastel2, vmin=0, vmax=2)\n",
    "\n",
    "# plot the training points\n",
    "cols = ['red', 'blue']\n",
    "plt.scatter(x1[y1==1,0], x1[y1==1,1], c=cols[0], s=5)\n",
    "plt.scatter(x1[y1==-1,0], x1[y1==-1,1], c=cols[1], s=5)\n",
    "\n",
    "plt.show()"
   ]
  },
  {
   "cell_type": "markdown",
   "metadata": {},
   "source": [
    "## Do the same for data2"
   ]
  },
  {
   "cell_type": "code",
   "execution_count": 62,
   "metadata": {},
   "outputs": [
    {
     "name": "stdout",
     "output_type": "stream",
     "text": [
      "[-2267.   373.   567.   -25.   -48.]\n"
     ]
    }
   ],
   "source": [
    "a2,b2 = k_pc(x2,y2)\n",
    "w2 = get_w(a2,b2,x2,y2)\n",
    "print(w2)"
   ]
  },
  {
   "cell_type": "code",
   "execution_count": 71,
   "metadata": {},
   "outputs": [
    {
     "data": {
      "image/png": "[encoded data removed]",
      "text/plain": [
       "<matplotlib.figure.Figure at 0x11d9dd668>"
      ]
     },
     "metadata": {},
     "output_type": "display_data"
    }
   ],
   "source": [
    "def mesh_plot(a1,b1,x1,y1):\n",
    "    # Create mesh for plot\n",
    "    delta = 0.05\n",
    "    x1_min, x1_max = 0.0, 11.0\n",
    "    x2_min, x2_max = 0.0, 11.0\n",
    "    xx1, xx2 = np.meshgrid(np.arange(x1_min, x1_max, delta), np.arange(x2_min, x2_max, delta))\n",
    "    Z = bi_class(a1, x1, y1, np.c_[xx1.ravel(), xx2.ravel()], b1)\n",
    "    Z = Z.reshape(xx1.shape)\n",
    "    plt.pcolormesh(xx1, xx2, Z, cmap=plt.cm.Pastel2, vmin=0, vmax=2)\n",
    "\n",
    "    # plot the training points\n",
    "    cols = ['red', 'blue']\n",
    "    plt.scatter(x1[y1==1,0], x1[y1==1,1], c=cols[0], s=5)\n",
    "    plt.scatter(x1[y1==-1,0], x1[y1==-1,1], c=cols[1], s=5)\n",
    "\n",
    "    plt.show()\n",
    "    \n",
    "mesh_plot(a2,b2,x2,y2)"
   ]
  },
  {
   "cell_type": "markdown",
   "metadata": {},
   "source": [
    "# Kernel Perceptron with RBF Kernel"
   ]
  },
  {
   "cell_type": "code",
   "execution_count": 128,
   "metadata": {
    "collapsed": true
   },
   "outputs": [],
   "source": [
    "# classify binary classification with quadratic kernel\n",
    "def bi_class_rbf(a, x, y, x_i, b, sigma):\n",
    "    sum = 0\n",
    "    for j in range(len(a)):\n",
    "        temp = a[j]*y[j]*np.exp(-1*np.power(np.linalg.norm(np.array(x[j]-x_i), axis=1),2)/2*np.power(sigma, 2))\n",
    "        sum += temp\n",
    "    result = sum + b\n",
    "    return np.sign(result)"
   ]
  },
  {
   "cell_type": "code",
   "execution_count": 112,
   "metadata": {
    "collapsed": true
   },
   "outputs": [],
   "source": [
    "# kernel perceptron\n",
    "def k_pc_rbf(x,y):\n",
    "    n_correct = 0\n",
    "    n_size= x.shape[0]\n",
    "    a = np.zeros(n_size)\n",
    "    b = 0\n",
    "    while (n_correct < n_size):\n",
    "        n_correct = 0\n",
    "        for i in range(n_size):\n",
    "            calc = y[i]*bi_class_rbf(a,x,y,x[i], b, sigma)\n",
    "            if (calc <= 0):\n",
    "                a[i] += 1\n",
    "                b += y[i]\n",
    "            else:\n",
    "                n_correct += 1\n",
    "    return (a,b)"
   ]
  },
  {
   "cell_type": "code",
   "execution_count": 122,
   "metadata": {},
   "outputs": [
    {
     "name": "stdout",
     "output_type": "stream",
     "text": [
      "[ -32.  -41. -290. -375. -375.]\n"
     ]
    }
   ],
   "source": [
    "sigma = 10.0\n",
    "a3,b3 = k_pc_rbf(x1,y1)\n",
    "w3 = get_w(a3,b3,x1,y1)\n",
    "print(w3)"
   ]
  },
  {
   "cell_type": "code",
   "execution_count": 87,
   "metadata": {
    "collapsed": true
   },
   "outputs": [],
   "source": [
    "def mesh_plot_rbf(a1,b1,x1,y1):\n",
    "    # Create mesh for plot\n",
    "    delta = 0.05\n",
    "    x1_min, x1_max = 0.0, 11.0\n",
    "    x2_min, x2_max = 0.0, 11.0\n",
    "    xx1, xx2 = np.meshgrid(np.arange(x1_min, x1_max, delta), np.arange(x2_min, x2_max, delta))\n",
    "    Z = bi_class_rbf(a1, x1, y1, np.c_[xx1.ravel(), xx2.ravel()], b1,sigma)\n",
    "    Z = Z.reshape(xx1.shape)\n",
    "    plt.pcolormesh(xx1, xx2, Z, cmap=plt.cm.Pastel2, vmin=0, vmax=2)\n",
    "\n",
    "    # plot the training points\n",
    "    cols = ['red', 'blue']\n",
    "    plt.scatter(x1[y1==1,0], x1[y1==1,1], c=cols[0], s=5)\n",
    "    plt.scatter(x1[y1==-1,0], x1[y1==-1,1], c=cols[1], s=5)\n",
    "\n",
    "    plt.show()"
   ]
  },
  {
   "cell_type": "code",
   "execution_count": 125,
   "metadata": {},
   "outputs": [
    {
     "data": {
      "image/png": "[encoded data removed]",
      "text/plain": [
       "<matplotlib.figure.Figure at 0x15f31f5c0>"
      ]
     },
     "metadata": {},
     "output_type": "display_data"
    }
   ],
   "source": [
    "mesh_plot_rbf(a3,b3,x1,y1)"
   ]
  },
  {
   "cell_type": "markdown",
   "metadata": {},
   "source": [
    "## With data 2"
   ]
  },
  {
   "cell_type": "code",
   "execution_count": 127,
   "metadata": {},
   "outputs": [
    {
     "name": "stdout",
     "output_type": "stream",
     "text": [
      "[   4.    8.  152.   90.   44.]\n"
     ]
    }
   ],
   "source": [
    "a4,b4 = k_pc_rbf(x2,y2)\n",
    "w4 = get_w(a4,b4,x2,y2)\n",
    "print(w4)"
   ]
  },
  {
   "cell_type": "code",
   "execution_count": 129,
   "metadata": {},
   "outputs": [
    {
     "data": {
      "image/png": "[encoded data removed]",
      "text/plain": [
       "<matplotlib.figure.Figure at 0x15f330d68>"
      ]
     },
     "metadata": {},
     "output_type": "display_data"
    }
   ],
   "source": [
    "mesh_plot_rbf(a4,b4,x2,y2)"
   ]
  }
 ],
 "metadata": {
  "kernelspec": {
   "display_name": "Python 3",
   "language": "python",
   "name": "python3"
  },
  "language_info": {
   "codemirror_mode": {
    "name": "ipython",
    "version": 3
   },
   "file_extension": ".py",
   "mimetype": "text/x-python",
   "name": "python",
   "nbconvert_exporter": "python",
   "pygments_lexer": "ipython3",
   "version": "3.6.0"
  }
 },
 "nbformat": 4,
 "nbformat_minor": 2
}
